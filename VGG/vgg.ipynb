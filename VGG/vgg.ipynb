{
 "cells": [
  {
   "cell_type": "markdown",
   "metadata": {},
   "source": [
    "## 实现VGG系列"
   ]
  },
  {
   "cell_type": "markdown",
   "metadata": {},
   "source": [
    "vgg网络的结构比较简单，就是简单的网络堆叠。其中有比较经典的VGG11，VGG13，VGG16，VGG19"
   ]
  },
  {
   "cell_type": "code",
   "execution_count": 4,
   "metadata": {},
   "outputs": [],
   "source": [
    "#VGG11/13/19 in PyTorch”“”\n",
    "import torch\n",
    "import torch.nn as nn"
   ]
  },
  {
   "cell_type": "code",
   "execution_count": 86,
   "metadata": {
    "collapsed": true
   },
   "outputs": [],
   "source": [
    "cfg={\n",
    "    'VGG11':[64,'M',128,'M',256,256,'M',512,512,'M',512,512,'M'],\n",
    "    'VGG13':[64,64,'M',128,128,'M',256,256,'M',512,512,'M',512,512,'M'],\n",
    "    'VGG16':[64,64,'M',128,128,'M',256,256,256,'M',512,512,512,'M',512,512,512,'M'],\n",
    "    'VGG19':[64,64,'M',128,128,'M',256,256,256,256,'M',512,512,512,512,'M',512,512,512,512,'M'],\n",
    "}"
   ]
  },
  {
   "cell_type": "code",
   "execution_count": 123,
   "metadata": {
    "collapsed": true
   },
   "outputs": [],
   "source": [
    "class VGG(nn.Module):\n",
    "    def __init__(self,vgg_name):\n",
    "        super(VGG,self).__init__()\n",
    "        self.features=self._make_layers(cfg[vgg_name])\n",
    "        self.avgpool=nn.AdaptiveAvgPool2d((7,7))\n",
    "        self.classifier=nn.Sequential(\n",
    "            nn.Linear(512*7*7,4096),\n",
    "            nn.ReLU(True),\n",
    "            nn.Dropout(),\n",
    "            nn.Linear(4096,4096),\n",
    "            nn.ReLU(True),\n",
    "            nn.Dropout(),\n",
    "            nn.Linear(4096,2),)\n",
    "    def forward(self,x):\n",
    "        out=self.features(x)\n",
    "        out=self.avgpool(out)\n",
    "        out=out.view(out.size(0),-1)\n",
    "        out=self.classifier(out)\n",
    "        return out\n",
    "    def _make_layers(self,cfg):\n",
    "        layers=[]\n",
    "        in_channels=3\n",
    "        for x in cfg:\n",
    "            if x=='M':#如果是M就添加池化层\n",
    "                layers+=[nn.MaxPool2d(kernel_size=2,stride=2)]\n",
    "            else:\n",
    "                layers+=[nn.Conv2d(in_channels,x,kernel_size=3,padding=1),\n",
    "                        nn.BatchNorm2d(x),\n",
    "                        nn.ReLU(inplace=True)]\n",
    "                in_channels=x\n",
    "        layers+=[nn.AvgPool2d(kernel_size=1,stride=1)]\n",
    "        return nn.Sequential(*layers)"
   ]
  },
  {
   "cell_type": "code",
   "execution_count": 124,
   "metadata": {
    "collapsed": true
   },
   "outputs": [],
   "source": [
    "def test():\n",
    "    model=VGG('VGG16')\n",
    "    x=torch.randn(2,3,224,224)\n",
    "    y=model(x)\n",
    "    print(y.size())"
   ]
  },
  {
   "cell_type": "code",
   "execution_count": 125,
   "metadata": {},
   "outputs": [
    {
     "name": "stdout",
     "output_type": "stream",
     "text": [
      "torch.Size([2, 2])\n"
     ]
    }
   ],
   "source": [
    "test()"
   ]
  },
  {
   "cell_type": "code",
   "execution_count": null,
   "metadata": {
    "collapsed": true
   },
   "outputs": [],
   "source": []
  },
  {
   "cell_type": "code",
   "execution_count": null,
   "metadata": {
    "collapsed": true
   },
   "outputs": [],
   "source": []
  }
 ],
 "metadata": {
  "kernelspec": {
   "display_name": "Pytorch for Deeplearning",
   "language": "python",
   "name": "pytorch_py3.6"
  },
  "language_info": {
   "codemirror_mode": {
    "name": "ipython",
    "version": 3
   },
   "file_extension": ".py",
   "mimetype": "text/x-python",
   "name": "python",
   "nbconvert_exporter": "python",
   "pygments_lexer": "ipython3",
   "version": "3.7.4"
  }
 },
 "nbformat": 4,
 "nbformat_minor": 2
}
